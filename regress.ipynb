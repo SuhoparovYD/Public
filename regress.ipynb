{
  "nbformat": 4,
  "nbformat_minor": 0,
  "metadata": {
    "colab": {
      "name": "UP_12_1.ipynb",
      "provenance": [],
      "collapsed_sections": []
    },
    "kernelspec": {
      "name": "python3",
      "display_name": "Python 3"
    },
    "language_info": {
      "name": "python"
    },
    "accelerator": "TPU"
  },
  "cells": [
    {
      "cell_type": "code",
      "metadata": {
        "id": "-mtszxmwI6b6"
      },
      "source": [
        "from tensorflow.keras.models import Sequential, Model\n",
        "from tensorflow.keras.layers import concatenate, Input, Dense, Dropout, BatchNormalization, Flatten\n",
        "from tensorflow.keras import utils        # for to_categorical\n",
        "from tensorflow.keras.optimizers import Adam, Adadelta, SGD, Adagrad, RMSprop\n",
        "from tensorflow.keras.preprocessing.text import Tokenizer, text_to_word_sequence\n",
        "from tensorflow.keras.preprocessing.sequence import pad_sequences\n",
        "from tensorflow.keras.callbacks import LearningRateScheduler   # callbacks\n",
        "from sklearn.preprocessing import StandardScaler\n",
        "from sklearn.model_selection import train_test_split\n",
        "from sklearn.metrics import mean_squared_error, mean_absolute_error\n",
        "import pandas as pd\n",
        "import numpy as np\n",
        "import random\n",
        "import math\n",
        "import re   # для регулярных выражений \n",
        "import matplotlib.pyplot as plt\n",
        "%matplotlib inline\n",
        " \n",
        "from IPython.display import clear_output"
      ],
      "execution_count": null,
      "outputs": []
    },
    {
      "cell_type": "markdown",
      "metadata": {
        "id": "zBRlAsn06ViD"
      },
      "source": [
        " Предсказание цен товара"
      ]
    },
    {
      "cell_type": "code",
      "metadata": {
        "colab": {
          "base_uri": "https://localhost:8080/",
          "height": 153
        },
        "id": "PVlsoX8ykKCh",
        "outputId": "0ca92875-dc62-46f0-9f8f-8b984dad97ac"
      },
      "source": [
        "df = pd.read_csv('/content/drive/MyDrive/Шиныдиски.csv', encoding= 'cp1251', sep=';', header=0) # Загружаем базу\n",
        "print (df.shape) # Смотрим размер базы\n",
        "df.head(3) # Смотрим что в ней есть"
      ],
      "execution_count": null,
      "outputs": [
        {
          "output_type": "stream",
          "text": [
            "(48068, 4)\n"
          ],
          "name": "stdout"
        },
        {
          "output_type": "execute_result",
          "data": {
            "text/html": [
              "<div>\n",
              "<style scoped>\n",
              "    .dataframe tbody tr th:only-of-type {\n",
              "        vertical-align: middle;\n",
              "    }\n",
              "\n",
              "    .dataframe tbody tr th {\n",
              "        vertical-align: top;\n",
              "    }\n",
              "\n",
              "    .dataframe thead th {\n",
              "        text-align: right;\n",
              "    }\n",
              "</style>\n",
              "<table border=\"1\" class=\"dataframe\">\n",
              "  <thead>\n",
              "    <tr style=\"text-align: right;\">\n",
              "      <th></th>\n",
              "      <th>Подкатегория 3</th>\n",
              "      <th>Имя товара</th>\n",
              "      <th>Цена</th>\n",
              "      <th>Производитель</th>\n",
              "    </tr>\n",
              "  </thead>\n",
              "  <tbody>\n",
              "    <tr>\n",
              "      <th>0</th>\n",
              "      <td>Шины</td>\n",
              "      <td>Шины Yokohama Geolandar A/T G015 [Geolandar A/...</td>\n",
              "      <td>4741.0</td>\n",
              "      <td>Yokohama</td>\n",
              "    </tr>\n",
              "    <tr>\n",
              "      <th>1</th>\n",
              "      <td>Шины</td>\n",
              "      <td>Шины Yokohama Geolandar A/T G015 [Geolandar A/...</td>\n",
              "      <td>5432.9</td>\n",
              "      <td>Yokohama</td>\n",
              "    </tr>\n",
              "    <tr>\n",
              "      <th>2</th>\n",
              "      <td>Шины</td>\n",
              "      <td>Шины Yokohama Geolandar A/T G015 [Geolandar A/...</td>\n",
              "      <td>5401.0</td>\n",
              "      <td>Yokohama</td>\n",
              "    </tr>\n",
              "  </tbody>\n",
              "</table>\n",
              "</div>"
            ],
            "text/plain": [
              "  Подкатегория 3  ... Производитель\n",
              "0           Шины  ...      Yokohama\n",
              "1           Шины  ...      Yokohama\n",
              "2           Шины  ...      Yokohama\n",
              "\n",
              "[3 rows x 4 columns]"
            ]
          },
          "metadata": {
            "tags": []
          },
          "execution_count": 2
        }
      ]
    },
    {
      "cell_type": "code",
      "metadata": {
        "colab": {
          "base_uri": "https://localhost:8080/",
          "height": 52
        },
        "id": "z2JdaXh_ghk7",
        "outputId": "9fa40965-7f36-4af8-cca1-908ac0e21539"
      },
      "source": [
        "class EasyParser:\n",
        "\n",
        "    def toСategory(self, val, dictionary):\n",
        "      # Переводит val в категории по словарю dictionary            \n",
        "      return utils.to_categorical(dictionary.index(val), len(dictionary))\n",
        "\n",
        "    def signText(self, text):\n",
        "      # Выбирает значимый текст\n",
        "      st = text.replace(')',']').replace('(','[')  \n",
        "      return st.split('[')[1].replace(']','')\n",
        "\n",
        "    def MakeDict(self, df, column):\n",
        "      # Возвращает список уникальных значений\n",
        "      col =df[column].to_list()\n",
        "      return  list(set(col)) \n",
        "\n",
        "xt = []\n",
        "yt = []\n",
        "xText = []\n",
        "ep = EasyParser()\n",
        "\n",
        "dictBrand = ep.MakeDict( df,'Производитель')\n",
        "dictProduct =ep.MakeDict(df,'Подкатегория 3')\n",
        "print(dictProduct)\n",
        "\n",
        "for val in df.values:\n",
        "  prod = ep.toСategory(val[0], dictProduct)     # Товар -> 01\n",
        "  brand = ep.toСategory(val[3], dictBrand)      # Производитель -> 01\n",
        "  x = np.hstack([prod, brand])\n",
        "  xt.append(x)\n",
        "  xText.append(ep.signText(val[1]))\n",
        "  yt.append(val[2]/1000.)   # в т. руб\n",
        "\n",
        "xT = np.array(xt)\n",
        "yT = np.array(yt)\n",
        "\n",
        "xText[10001]"
      ],
      "execution_count": null,
      "outputs": [
        {
          "output_type": "stream",
          "text": [
            "['Грузовые шины', 'Мотошины', 'Диски', 'Шины']\n"
          ],
          "name": "stdout"
        },
        {
          "output_type": "execute_result",
          "data": {
            "application/vnd.google.colaboratory.intrinsic+json": {
              "type": "string"
            },
            "text/plain": [
              "'WR SUV 3 295/40 R20 110V'"
            ]
          },
          "metadata": {
            "tags": []
          },
          "execution_count": 3
        }
      ]
    },
    {
      "cell_type": "code",
      "metadata": {
        "id": "dP0nO7kjuHrt"
      },
      "source": [
        "maxWordsCount = 8000 # Определяем максимальное количество слов/индексов, учитываемое при обучении текстов\n",
        "# num_words=maxWordsCount - определяем максимальное количество слов/индексов, учитываемое при обучении текстов\n",
        "# filters='!\"#$%&()*+,-./:;<=>?@[\\\\]^_`{|}~\\t\\n' - избавляемся от ненужных символов\n",
        "# lower=True - приводим слова к нижнему регистру\n",
        "# split=' ' - разделяем слова по пробелу\n",
        "# char_level=False - просим токенайзер не удалять однобуквенные слова\n",
        "tokenizer = Tokenizer(num_words=maxWordsCount, filters='!\"#$%&()*+,-–—./…:;<=>?@[\\\\]^_`{|}~«»\\t\\n\\xa0\\ufeff', lower=True, split=' ', oov_token='unknown', char_level=False)\n",
        "\n",
        "tokenizer.fit_on_texts(xText) #  словарь частотности\n",
        "\n",
        "items = list(tokenizer.word_index.items())"
      ],
      "execution_count": null,
      "outputs": []
    },
    {
      "cell_type": "code",
      "metadata": {
        "colab": {
          "base_uri": "https://localhost:8080/"
        },
        "id": "kXKgaZElRxiD",
        "outputId": "66f51b39-bc4b-4553-ed1e-78c059b8bbd0"
      },
      "source": [
        "print(len(items))   # Правильно ли выбран maxWordsCount"
      ],
      "execution_count": null,
      "outputs": [
        {
          "output_type": "stream",
          "text": [
            "7347\n"
          ],
          "name": "stdout"
        }
      ]
    },
    {
      "cell_type": "code",
      "metadata": {
        "colab": {
          "base_uri": "https://localhost:8080/"
        },
        "id": "6bJpIDS_ssdJ",
        "outputId": "09807631-c608-409c-fd55-14875aaf7322"
      },
      "source": [
        "xWordIndexes = tokenizer.texts_to_sequences(xText)\n",
        "#x01 = tokenizer.sequences_to_matrix(l) #П одаем xTrain в виде списка, чтобы метод успешно сработал\n",
        "#xTest01 = tokenizer.sequences_to_matrix(xTest.tolist()) # Подаем xTest в виде списка, чтобы метод успешно сработал\n",
        "print(\"В виде оригинального текста:        \", xText[1][:87])\n",
        "print(\"В виде последовательности индексов: \", xWordIndexes[1][:20], '\\n')"
      ],
      "execution_count": null,
      "outputs": [
        {
          "output_type": "stream",
          "text": [
            "В виде оригинального текста:         Geolandar A/T G015 215/60 R16 95H\n",
            "В виде последовательности индексов:  [213, 99, 72, 512, 27, 17, 10, 289] \n",
            "\n"
          ],
          "name": "stdout"
        }
      ]
    },
    {
      "cell_type": "code",
      "metadata": {
        "id": "xSs3F7YmnTI4"
      },
      "source": [
        "xT01 = tokenizer.sequences_to_matrix(xWordIndexes) # Подаем  в виде списка, чтобы метод успешно сработал"
      ],
      "execution_count": null,
      "outputs": []
    },
    {
      "cell_type": "code",
      "metadata": {
        "id": "oDro7LVvnS16"
      },
      "source": [
        "vmask = np.random.sample(xT.shape[0]) < 0.2 # маска True-False проверочной выборки"
      ],
      "execution_count": null,
      "outputs": []
    },
    {
      "cell_type": "code",
      "metadata": {
        "id": "QHy5pdigkesa"
      },
      "source": [
        "def scheduler(epoch, lr):\n",
        "  if epoch > 10 and epoch % 20 == 0:\n",
        "    lr /= 10\n",
        "  return lr \n",
        "\n",
        "callback = LearningRateScheduler(scheduler, verbose=1)"
      ],
      "execution_count": null,
      "outputs": []
    },
    {
      "cell_type": "code",
      "metadata": {
        "colab": {
          "base_uri": "https://localhost:8080/"
        },
        "id": "gubD22-doNyR",
        "outputId": "91f5248b-6964-4172-9663-681ae542ce2e"
      },
      "source": [
        "# Cеть\n",
        "input1 = Input((xT.shape[1],))\n",
        "input2 = Input((xT01.shape[1],))\n",
        "\n",
        "xt = Dense(400, activation=\"relu\")(input1)\n",
        "xtxt = Dense(1000, activation=\"relu\")(input2)\n",
        "\n",
        "x = concatenate([xt, xtxt])\n",
        "\n",
        "x = Dense(1000, activation='relu')(x)\n",
        "x = Dense(300, activation='relu')(x)\n",
        "x = Dense(1, activation='relu')(x)\n",
        "\n",
        "model = Model((input1, input2), x)\n",
        "\n",
        "model.compile(optimizer=Adam(lr=1e-3), loss='mae')\n",
        "history = model.fit([xT[~vmask], xT01[~vmask]], yT[~vmask], \n",
        "                    epochs=90,  batch_size=100,\n",
        "                    validation_data=([xT[vmask], xT01[vmask]], yT[vmask]), \n",
        "                    callbacks=[callback], verbose=1)\n"
      ],
      "execution_count": null,
      "outputs": [
        {
          "output_type": "stream",
          "text": [
            "Epoch 1/90\n",
            "\n",
            "Epoch 00001: LearningRateScheduler reducing learning rate to 0.0010000000474974513.\n",
            "384/384 [==============================] - 50s 127ms/step - loss: 2.2490 - val_loss: 0.9979\n",
            "Epoch 2/90\n",
            "\n",
            "Epoch 00002: LearningRateScheduler reducing learning rate to 0.0010000000474974513.\n",
            "384/384 [==============================] - 48s 126ms/step - loss: 0.8989 - val_loss: 1.0103\n",
            "Epoch 3/90\n",
            "\n",
            "Epoch 00003: LearningRateScheduler reducing learning rate to 0.0010000000474974513.\n",
            "384/384 [==============================] - 48s 126ms/step - loss: 0.7617 - val_loss: 0.9636\n",
            "Epoch 4/90\n",
            "\n",
            "Epoch 00004: LearningRateScheduler reducing learning rate to 0.0010000000474974513.\n",
            "384/384 [==============================] - 48s 125ms/step - loss: 0.6967 - val_loss: 0.7999\n",
            "Epoch 5/90\n",
            "\n",
            "Epoch 00005: LearningRateScheduler reducing learning rate to 0.0010000000474974513.\n",
            "384/384 [==============================] - 48s 125ms/step - loss: 0.6003 - val_loss: 0.7580\n",
            "Epoch 6/90\n",
            "\n",
            "Epoch 00006: LearningRateScheduler reducing learning rate to 0.0010000000474974513.\n",
            "384/384 [==============================] - 48s 125ms/step - loss: 0.5406 - val_loss: 0.7492\n",
            "Epoch 7/90\n",
            "\n",
            "Epoch 00007: LearningRateScheduler reducing learning rate to 0.0010000000474974513.\n",
            "384/384 [==============================] - 48s 125ms/step - loss: 0.5180 - val_loss: 0.7472\n",
            "Epoch 8/90\n",
            "\n",
            "Epoch 00008: LearningRateScheduler reducing learning rate to 0.0010000000474974513.\n",
            "384/384 [==============================] - 48s 126ms/step - loss: 0.4862 - val_loss: 0.7333\n",
            "Epoch 9/90\n",
            "\n",
            "Epoch 00009: LearningRateScheduler reducing learning rate to 0.0010000000474974513.\n",
            "384/384 [==============================] - 50s 129ms/step - loss: 0.4595 - val_loss: 0.7235\n",
            "Epoch 10/90\n",
            "\n",
            "Epoch 00010: LearningRateScheduler reducing learning rate to 0.0010000000474974513.\n",
            "384/384 [==============================] - 49s 127ms/step - loss: 0.4451 - val_loss: 0.7038\n",
            "Epoch 11/90\n",
            "\n",
            "Epoch 00011: LearningRateScheduler reducing learning rate to 0.0010000000474974513.\n",
            "384/384 [==============================] - 48s 126ms/step - loss: 0.4261 - val_loss: 0.7206\n",
            "Epoch 12/90\n",
            "\n",
            "Epoch 00012: LearningRateScheduler reducing learning rate to 0.0010000000474974513.\n",
            "384/384 [==============================] - 48s 126ms/step - loss: 0.3988 - val_loss: 0.7309\n",
            "Epoch 13/90\n",
            "\n",
            "Epoch 00013: LearningRateScheduler reducing learning rate to 0.0010000000474974513.\n",
            "384/384 [==============================] - 48s 125ms/step - loss: 0.3807 - val_loss: 0.7500\n",
            "Epoch 14/90\n",
            "\n",
            "Epoch 00014: LearningRateScheduler reducing learning rate to 0.0010000000474974513.\n",
            "384/384 [==============================] - 48s 126ms/step - loss: 0.3679 - val_loss: 0.7315\n",
            "Epoch 15/90\n",
            "\n",
            "Epoch 00015: LearningRateScheduler reducing learning rate to 0.0010000000474974513.\n",
            "384/384 [==============================] - 48s 125ms/step - loss: 0.3685 - val_loss: 0.7148\n",
            "Epoch 16/90\n",
            "\n",
            "Epoch 00016: LearningRateScheduler reducing learning rate to 0.0010000000474974513.\n",
            "384/384 [==============================] - 48s 126ms/step - loss: 0.3465 - val_loss: 0.6903\n",
            "Epoch 17/90\n",
            "\n",
            "Epoch 00017: LearningRateScheduler reducing learning rate to 0.0010000000474974513.\n",
            "384/384 [==============================] - 48s 125ms/step - loss: 0.3348 - val_loss: 0.7157\n",
            "Epoch 18/90\n",
            "\n",
            "Epoch 00018: LearningRateScheduler reducing learning rate to 0.0010000000474974513.\n",
            "384/384 [==============================] - 48s 125ms/step - loss: 0.3311 - val_loss: 0.6885\n",
            "Epoch 19/90\n",
            "\n",
            "Epoch 00019: LearningRateScheduler reducing learning rate to 0.0010000000474974513.\n",
            "384/384 [==============================] - 48s 125ms/step - loss: 0.3148 - val_loss: 0.6973\n",
            "Epoch 20/90\n",
            "\n",
            "Epoch 00020: LearningRateScheduler reducing learning rate to 0.0010000000474974513.\n",
            "384/384 [==============================] - 48s 125ms/step - loss: 0.3010 - val_loss: 0.7009\n",
            "Epoch 21/90\n",
            "\n",
            "Epoch 00021: LearningRateScheduler reducing learning rate to 0.00010000000474974513.\n",
            "384/384 [==============================] - 48s 125ms/step - loss: 0.2622 - val_loss: 0.6534\n",
            "Epoch 22/90\n",
            "\n",
            "Epoch 00022: LearningRateScheduler reducing learning rate to 0.00010000000474974513.\n",
            "384/384 [==============================] - 48s 125ms/step - loss: 0.2017 - val_loss: 0.6468\n",
            "Epoch 23/90\n",
            "\n",
            "Epoch 00023: LearningRateScheduler reducing learning rate to 0.00010000000474974513.\n",
            "384/384 [==============================] - 48s 125ms/step - loss: 0.1748 - val_loss: 0.6445\n",
            "Epoch 24/90\n",
            "\n",
            "Epoch 00024: LearningRateScheduler reducing learning rate to 0.00010000000474974513.\n",
            "384/384 [==============================] - 48s 125ms/step - loss: 0.1545 - val_loss: 0.6418\n",
            "Epoch 25/90\n",
            "\n",
            "Epoch 00025: LearningRateScheduler reducing learning rate to 0.00010000000474974513.\n",
            "384/384 [==============================] - 48s 126ms/step - loss: 0.1422 - val_loss: 0.6408\n",
            "Epoch 26/90\n",
            "\n",
            "Epoch 00026: LearningRateScheduler reducing learning rate to 0.00010000000474974513.\n",
            "384/384 [==============================] - 48s 126ms/step - loss: 0.1274 - val_loss: 0.6395\n",
            "Epoch 27/90\n",
            "\n",
            "Epoch 00027: LearningRateScheduler reducing learning rate to 0.00010000000474974513.\n",
            "384/384 [==============================] - 48s 126ms/step - loss: 0.1195 - val_loss: 0.6369\n",
            "Epoch 28/90\n",
            "\n",
            "Epoch 00028: LearningRateScheduler reducing learning rate to 0.00010000000474974513.\n",
            "384/384 [==============================] - 48s 126ms/step - loss: 0.1138 - val_loss: 0.6379\n",
            "Epoch 29/90\n",
            "\n",
            "Epoch 00029: LearningRateScheduler reducing learning rate to 0.00010000000474974513.\n",
            "384/384 [==============================] - 48s 126ms/step - loss: 0.1087 - val_loss: 0.6372\n",
            "Epoch 30/90\n",
            "\n",
            "Epoch 00030: LearningRateScheduler reducing learning rate to 0.00010000000474974513.\n",
            "384/384 [==============================] - 48s 126ms/step - loss: 0.1009 - val_loss: 0.6357\n",
            "Epoch 31/90\n",
            "\n",
            "Epoch 00031: LearningRateScheduler reducing learning rate to 0.00010000000474974513.\n",
            "384/384 [==============================] - 49s 127ms/step - loss: 0.0970 - val_loss: 0.6351\n",
            "Epoch 32/90\n",
            "\n",
            "Epoch 00032: LearningRateScheduler reducing learning rate to 0.00010000000474974513.\n",
            "384/384 [==============================] - 49s 127ms/step - loss: 0.0904 - val_loss: 0.6361\n",
            "Epoch 33/90\n",
            "\n",
            "Epoch 00033: LearningRateScheduler reducing learning rate to 0.00010000000474974513.\n",
            "384/384 [==============================] - 49s 126ms/step - loss: 0.0898 - val_loss: 0.6355\n",
            "Epoch 34/90\n",
            "\n",
            "Epoch 00034: LearningRateScheduler reducing learning rate to 0.00010000000474974513.\n",
            "384/384 [==============================] - 48s 126ms/step - loss: 0.0855 - val_loss: 0.6349\n",
            "Epoch 35/90\n",
            "\n",
            "Epoch 00035: LearningRateScheduler reducing learning rate to 0.00010000000474974513.\n",
            "384/384 [==============================] - 48s 125ms/step - loss: 0.0844 - val_loss: 0.6361\n",
            "Epoch 36/90\n",
            "\n",
            "Epoch 00036: LearningRateScheduler reducing learning rate to 0.00010000000474974513.\n",
            "384/384 [==============================] - 48s 126ms/step - loss: 0.0853 - val_loss: 0.6349\n",
            "Epoch 37/90\n",
            "\n",
            "Epoch 00037: LearningRateScheduler reducing learning rate to 0.00010000000474974513.\n",
            "384/384 [==============================] - 48s 126ms/step - loss: 0.0811 - val_loss: 0.6364\n",
            "Epoch 38/90\n",
            "\n",
            "Epoch 00038: LearningRateScheduler reducing learning rate to 0.00010000000474974513.\n",
            "384/384 [==============================] - 48s 125ms/step - loss: 0.0784 - val_loss: 0.6369\n",
            "Epoch 39/90\n",
            "\n",
            "Epoch 00039: LearningRateScheduler reducing learning rate to 0.00010000000474974513.\n",
            "384/384 [==============================] - 48s 125ms/step - loss: 0.0796 - val_loss: 0.6374\n",
            "Epoch 40/90\n",
            "\n",
            "Epoch 00040: LearningRateScheduler reducing learning rate to 0.00010000000474974513.\n",
            "384/384 [==============================] - 48s 125ms/step - loss: 0.0753 - val_loss: 0.6354\n",
            "Epoch 41/90\n",
            "\n",
            "Epoch 00041: LearningRateScheduler reducing learning rate to 1.0000000474974514e-05.\n",
            "384/384 [==============================] - 48s 126ms/step - loss: 0.0709 - val_loss: 0.6341\n",
            "Epoch 42/90\n",
            "\n",
            "Epoch 00042: LearningRateScheduler reducing learning rate to 1.0000000656873453e-05.\n",
            "384/384 [==============================] - 48s 126ms/step - loss: 0.0647 - val_loss: 0.6341\n",
            "Epoch 43/90\n",
            "\n",
            "Epoch 00043: LearningRateScheduler reducing learning rate to 1.0000000656873453e-05.\n",
            "384/384 [==============================] - 48s 126ms/step - loss: 0.0667 - val_loss: 0.6338\n",
            "Epoch 44/90\n",
            "\n",
            "Epoch 00044: LearningRateScheduler reducing learning rate to 1.0000000656873453e-05.\n",
            "384/384 [==============================] - 49s 126ms/step - loss: 0.0596 - val_loss: 0.6337\n",
            "Epoch 45/90\n",
            "\n",
            "Epoch 00045: LearningRateScheduler reducing learning rate to 1.0000000656873453e-05.\n",
            "384/384 [==============================] - 48s 126ms/step - loss: 0.0615 - val_loss: 0.6335\n",
            "Epoch 46/90\n",
            "\n",
            "Epoch 00046: LearningRateScheduler reducing learning rate to 1.0000000656873453e-05.\n",
            "384/384 [==============================] - 48s 126ms/step - loss: 0.0574 - val_loss: 0.6334\n",
            "Epoch 47/90\n",
            "\n",
            "Epoch 00047: LearningRateScheduler reducing learning rate to 1.0000000656873453e-05.\n",
            "384/384 [==============================] - 48s 126ms/step - loss: 0.0527 - val_loss: 0.6333\n",
            "Epoch 48/90\n",
            "\n",
            "Epoch 00048: LearningRateScheduler reducing learning rate to 1.0000000656873453e-05.\n",
            "384/384 [==============================] - 48s 126ms/step - loss: 0.0567 - val_loss: 0.6333\n",
            "Epoch 49/90\n",
            "\n",
            "Epoch 00049: LearningRateScheduler reducing learning rate to 1.0000000656873453e-05.\n",
            "384/384 [==============================] - 48s 126ms/step - loss: 0.0520 - val_loss: 0.6331\n",
            "Epoch 50/90\n",
            "\n",
            "Epoch 00050: LearningRateScheduler reducing learning rate to 1.0000000656873453e-05.\n",
            "384/384 [==============================] - 48s 126ms/step - loss: 0.0502 - val_loss: 0.6333\n",
            "Epoch 51/90\n",
            "\n",
            "Epoch 00051: LearningRateScheduler reducing learning rate to 1.0000000656873453e-05.\n",
            "384/384 [==============================] - 48s 125ms/step - loss: 0.0519 - val_loss: 0.6332\n",
            "Epoch 52/90\n",
            "\n",
            "Epoch 00052: LearningRateScheduler reducing learning rate to 1.0000000656873453e-05.\n",
            "384/384 [==============================] - 48s 126ms/step - loss: 0.0509 - val_loss: 0.6332\n",
            "Epoch 53/90\n",
            "\n",
            "Epoch 00053: LearningRateScheduler reducing learning rate to 1.0000000656873453e-05.\n",
            "384/384 [==============================] - 48s 126ms/step - loss: 0.0519 - val_loss: 0.6330\n",
            "Epoch 54/90\n",
            "\n",
            "Epoch 00054: LearningRateScheduler reducing learning rate to 1.0000000656873453e-05.\n",
            "384/384 [==============================] - 48s 126ms/step - loss: 0.0529 - val_loss: 0.6330\n",
            "Epoch 55/90\n",
            "\n",
            "Epoch 00055: LearningRateScheduler reducing learning rate to 1.0000000656873453e-05.\n",
            "384/384 [==============================] - 48s 125ms/step - loss: 0.0478 - val_loss: 0.6330\n",
            "Epoch 56/90\n",
            "\n",
            "Epoch 00056: LearningRateScheduler reducing learning rate to 1.0000000656873453e-05.\n",
            "384/384 [==============================] - 48s 125ms/step - loss: 0.0466 - val_loss: 0.6330\n",
            "Epoch 57/90\n",
            "\n",
            "Epoch 00057: LearningRateScheduler reducing learning rate to 1.0000000656873453e-05.\n",
            "384/384 [==============================] - 48s 126ms/step - loss: 0.0509 - val_loss: 0.6329\n",
            "Epoch 58/90\n",
            "\n",
            "Epoch 00058: LearningRateScheduler reducing learning rate to 1.0000000656873453e-05.\n",
            "384/384 [==============================] - 48s 126ms/step - loss: 0.0524 - val_loss: 0.6329\n",
            "Epoch 59/90\n",
            "\n",
            "Epoch 00059: LearningRateScheduler reducing learning rate to 1.0000000656873453e-05.\n",
            "384/384 [==============================] - 48s 126ms/step - loss: 0.0509 - val_loss: 0.6331\n",
            "Epoch 60/90\n",
            "\n",
            "Epoch 00060: LearningRateScheduler reducing learning rate to 1.0000000656873453e-05.\n",
            "384/384 [==============================] - 48s 126ms/step - loss: 0.0487 - val_loss: 0.6330\n",
            "Epoch 61/90\n",
            "\n",
            "Epoch 00061: LearningRateScheduler reducing learning rate to 1.0000000656873453e-06.\n",
            "384/384 [==============================] - 48s 126ms/step - loss: 0.0469 - val_loss: 0.6330\n",
            "Epoch 62/90\n",
            "\n",
            "Epoch 00062: LearningRateScheduler reducing learning rate to 1.0000001111620804e-06.\n",
            "384/384 [==============================] - 48s 126ms/step - loss: 0.0523 - val_loss: 0.6329\n",
            "Epoch 63/90\n",
            "\n",
            "Epoch 00063: LearningRateScheduler reducing learning rate to 1.0000001111620804e-06.\n",
            "384/384 [==============================] - 48s 126ms/step - loss: 0.0466 - val_loss: 0.6329\n",
            "Epoch 64/90\n",
            "\n",
            "Epoch 00064: LearningRateScheduler reducing learning rate to 1.0000001111620804e-06.\n",
            "384/384 [==============================] - 48s 125ms/step - loss: 0.0454 - val_loss: 0.6329\n",
            "Epoch 65/90\n",
            "\n",
            "Epoch 00065: LearningRateScheduler reducing learning rate to 1.0000001111620804e-06.\n",
            "384/384 [==============================] - 48s 126ms/step - loss: 0.0439 - val_loss: 0.6329\n",
            "Epoch 66/90\n",
            "\n",
            "Epoch 00066: LearningRateScheduler reducing learning rate to 1.0000001111620804e-06.\n",
            "384/384 [==============================] - 48s 126ms/step - loss: 0.0472 - val_loss: 0.6329\n",
            "Epoch 67/90\n",
            "\n",
            "Epoch 00067: LearningRateScheduler reducing learning rate to 1.0000001111620804e-06.\n",
            "384/384 [==============================] - 49s 127ms/step - loss: 0.0461 - val_loss: 0.6329\n",
            "Epoch 68/90\n",
            "\n",
            "Epoch 00068: LearningRateScheduler reducing learning rate to 1.0000001111620804e-06.\n",
            "384/384 [==============================] - 49s 127ms/step - loss: 0.0455 - val_loss: 0.6328\n",
            "Epoch 69/90\n",
            "\n",
            "Epoch 00069: LearningRateScheduler reducing learning rate to 1.0000001111620804e-06.\n",
            "384/384 [==============================] - 49s 127ms/step - loss: 0.0450 - val_loss: 0.6328\n",
            "Epoch 70/90\n",
            "\n",
            "Epoch 00070: LearningRateScheduler reducing learning rate to 1.0000001111620804e-06.\n",
            "384/384 [==============================] - 48s 126ms/step - loss: 0.0465 - val_loss: 0.6328\n",
            "Epoch 71/90\n",
            "\n",
            "Epoch 00071: LearningRateScheduler reducing learning rate to 1.0000001111620804e-06.\n",
            "384/384 [==============================] - 48s 126ms/step - loss: 0.0455 - val_loss: 0.6328\n",
            "Epoch 72/90\n",
            "\n",
            "Epoch 00072: LearningRateScheduler reducing learning rate to 1.0000001111620804e-06.\n",
            "384/384 [==============================] - 48s 126ms/step - loss: 0.0437 - val_loss: 0.6328\n",
            "Epoch 73/90\n",
            "\n",
            "Epoch 00073: LearningRateScheduler reducing learning rate to 1.0000001111620804e-06.\n",
            "384/384 [==============================] - 48s 126ms/step - loss: 0.0474 - val_loss: 0.6328\n",
            "Epoch 74/90\n",
            "\n",
            "Epoch 00074: LearningRateScheduler reducing learning rate to 1.0000001111620804e-06.\n",
            "384/384 [==============================] - 49s 127ms/step - loss: 0.0496 - val_loss: 0.6328\n",
            "Epoch 75/90\n",
            "\n",
            "Epoch 00075: LearningRateScheduler reducing learning rate to 1.0000001111620804e-06.\n",
            "384/384 [==============================] - 48s 126ms/step - loss: 0.0440 - val_loss: 0.6328\n",
            "Epoch 76/90\n",
            "\n",
            "Epoch 00076: LearningRateScheduler reducing learning rate to 1.0000001111620804e-06.\n",
            "384/384 [==============================] - 49s 127ms/step - loss: 0.0460 - val_loss: 0.6328\n",
            "Epoch 77/90\n",
            "\n",
            "Epoch 00077: LearningRateScheduler reducing learning rate to 1.0000001111620804e-06.\n",
            "384/384 [==============================] - 48s 126ms/step - loss: 0.0457 - val_loss: 0.6328\n",
            "Epoch 78/90\n",
            "\n",
            "Epoch 00078: LearningRateScheduler reducing learning rate to 1.0000001111620804e-06.\n",
            "384/384 [==============================] - 49s 127ms/step - loss: 0.0486 - val_loss: 0.6328\n",
            "Epoch 79/90\n",
            "\n",
            "Epoch 00079: LearningRateScheduler reducing learning rate to 1.0000001111620804e-06.\n",
            "384/384 [==============================] - 49s 127ms/step - loss: 0.0456 - val_loss: 0.6328\n",
            "Epoch 80/90\n",
            "\n",
            "Epoch 00080: LearningRateScheduler reducing learning rate to 1.0000001111620804e-06.\n",
            "384/384 [==============================] - 49s 129ms/step - loss: 0.0441 - val_loss: 0.6328\n",
            "Epoch 81/90\n",
            "\n",
            "Epoch 00081: LearningRateScheduler reducing learning rate to 1.0000001111620805e-07.\n",
            "384/384 [==============================] - 49s 129ms/step - loss: 0.0452 - val_loss: 0.6328\n",
            "Epoch 82/90\n",
            "\n",
            "Epoch 00082: LearningRateScheduler reducing learning rate to 1.000000082740371e-07.\n",
            "384/384 [==============================] - 49s 129ms/step - loss: 0.0437 - val_loss: 0.6328\n",
            "Epoch 83/90\n",
            "\n",
            "Epoch 00083: LearningRateScheduler reducing learning rate to 1.000000082740371e-07.\n",
            "384/384 [==============================] - 49s 128ms/step - loss: 0.0446 - val_loss: 0.6328\n",
            "Epoch 84/90\n",
            "\n",
            "Epoch 00084: LearningRateScheduler reducing learning rate to 1.000000082740371e-07.\n",
            "384/384 [==============================] - 49s 127ms/step - loss: 0.0419 - val_loss: 0.6328\n",
            "Epoch 85/90\n",
            "\n",
            "Epoch 00085: LearningRateScheduler reducing learning rate to 1.000000082740371e-07.\n",
            "384/384 [==============================] - 49s 126ms/step - loss: 0.0466 - val_loss: 0.6328\n",
            "Epoch 86/90\n",
            "\n",
            "Epoch 00086: LearningRateScheduler reducing learning rate to 1.000000082740371e-07.\n",
            "384/384 [==============================] - 49s 128ms/step - loss: 0.0454 - val_loss: 0.6328\n",
            "Epoch 87/90\n",
            "\n",
            "Epoch 00087: LearningRateScheduler reducing learning rate to 1.000000082740371e-07.\n",
            "384/384 [==============================] - 49s 128ms/step - loss: 0.0467 - val_loss: 0.6328\n",
            "Epoch 88/90\n",
            "\n",
            "Epoch 00088: LearningRateScheduler reducing learning rate to 1.000000082740371e-07.\n",
            "384/384 [==============================] - 49s 127ms/step - loss: 0.0433 - val_loss: 0.6328\n",
            "Epoch 89/90\n",
            "\n",
            "Epoch 00089: LearningRateScheduler reducing learning rate to 1.000000082740371e-07.\n",
            "384/384 [==============================] - 49s 127ms/step - loss: 0.0447 - val_loss: 0.6328\n",
            "Epoch 90/90\n",
            "\n",
            "Epoch 00090: LearningRateScheduler reducing learning rate to 1.000000082740371e-07.\n",
            "384/384 [==============================] - 49s 128ms/step - loss: 0.0476 - val_loss: 0.6328\n"
          ],
          "name": "stdout"
        }
      ]
    },
    {
      "cell_type": "markdown",
      "metadata": {
        "id": "Ucb0_EOAUwbS"
      },
      "source": [
        "Визуализация"
      ]
    },
    {
      "cell_type": "code",
      "metadata": {
        "colab": {
          "base_uri": "https://localhost:8080/",
          "height": 279
        },
        "id": "hE-VvtEoSIE8",
        "outputId": "5a1a901f-cbb6-413f-eb98-1377eccf901f"
      },
      "source": [
        "plt.plot(history.history['loss'], \n",
        "         label='Средняя абсолютная ошибка на обучающем наборе')\n",
        "plt.plot(history.history['val_loss'], \n",
        "         label='Средняя абсолютная ошибка на проверочном наборе')\n",
        "plt.xlabel('Эпоха обучения')\n",
        "plt.ylabel('Средняя абсолютная ошибка, тыс. руб')\n",
        "plt.legend()\n",
        "plt.show()"
      ],
      "execution_count": null,
      "outputs": [
        {
          "output_type": "display_data",
          "data": {
            "image/png": "[encoded data removed]",
            "text/plain": [
              "<Figure size 432x288 with 1 Axes>"
            ]
          },
          "metadata": {
            "tags": [],
            "needs_background": "light"
          }
        }
      ]
    },
    {
      "cell_type": "code",
      "metadata": {
        "colab": {
          "base_uri": "https://localhost:8080/",
          "height": 279
        },
        "id": "LE2DzQZXUNOs",
        "outputId": "961cf5ec-71a5-4592-f51a-a1b7b611489c"
      },
      "source": [
        "y = yT[vmask]\n",
        "pred = model.predict([xT[vmask], xT01[vmask]]) # Предсказанная цена на проверочной выборке\n",
        "plt.scatter(y, pred)\n",
        "plt.xlabel('Правильные значение')\n",
        "plt.ylabel('Предсказания на проверочной выборке')\n",
        "plt.axis('equal')\n",
        "plt.xlim(plt.xlim())\n",
        "plt.ylim(plt.ylim())\n",
        "plt.plot([-200, 200], [-200, 200])\n",
        "plt.show()"
      ],
      "execution_count": null,
      "outputs": [
        {
          "output_type": "display_data",
          "data": {
            "image/png": "[encoded data removed]",
            "text/plain": [
              "<Figure size 432x288 with 1 Axes>"
            ]
          },
          "metadata": {
            "tags": [],
            "needs_background": "light"
          }
        }
      ]
    },
    {
      "cell_type": "code",
      "metadata": {
        "colab": {
          "base_uri": "https://localhost:8080/",
          "height": 279
        },
        "id": "Yea2NOgZSrIL",
        "outputId": "ae3f55d6-94ec-4f8a-f93e-661dab9cd74f"
      },
      "source": [
        "# на обучающей выборке\n",
        "y = yT[~vmask]\n",
        "pred = model.predict([xT[~vmask], xT01[~vmask]]) # Предсказанная цена\n",
        "plt.scatter(y, pred)\n",
        "plt.xlabel('Правильные значение')\n",
        "plt.ylabel('Предсказания на обучающей выборке')\n",
        "plt.axis('equal')\n",
        "plt.xlim(plt.xlim())\n",
        "plt.ylim(plt.ylim())\n",
        "plt.plot([-5, 5], [-5, 5])\n",
        "plt.show()"
      ],
      "execution_count": null,
      "outputs": [
        {
          "output_type": "display_data",
          "data": {
            "image/png": "[encoded data removed]",
            "text/plain": [
              "<Figure size 432x288 with 1 Axes>"
            ]
          },
          "metadata": {
            "tags": [],
            "needs_background": "light"
          }
        }
      ]
    },
    {
      "cell_type": "code",
      "metadata": {
        "id": "llofBxPATuee"
      },
      "source": [
        "Выводы:\n",
        "1. В данном наборе информация о товаре, в большей мере, заложена в текстовую часть.\n",
        " На самом деле - это числовые и буквенные хакракткристики тежнических параметров.\n",
        " У разных производителей параметры могут различаться по содержанию и их анализ \n",
        " довольно сложен и требует много времни. \n",
        " В этом случае - предоставить нейронной сети \"самой разобраться\" - удачный вариант.\n",
        " Модель показала точность порядка 10% от цены товара, что, на мой взляд - хорошо.\n",
        "2.Обучение на 90 эпохах - избыточно, и сделано скорей для того, чтобы убедиться в этом.\n",
        "3. Разброс на обучающей выборке - меньше чем на проверочной,  наличие разброса\n",
        " говорит о том, что модель не \"вызубрила правильные ответы\""
      ],
      "execution_count": null,
      "outputs": []
    }
  ]
}